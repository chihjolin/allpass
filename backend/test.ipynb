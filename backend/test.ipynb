{
 "cells": [
  {
   "cell_type": "code",
   "execution_count": 1,
   "id": "f4b50985",
   "metadata": {},
   "outputs": [],
   "source": [
    "import os\n",
    "from dotenv import load_dotenv\n",
    "import json\n",
    "from flask import Flask, jsonify, send_from_directory, request\n",
    "from flask_cors import CORS\n",
    "import requests\n",
    "import gpxpy\n",
    "import gpxpy.gpx\n",
    "from pathlib import Path"
   ]
  },
  {
   "cell_type": "code",
   "execution_count": 2,
   "id": "c03a1c0f",
   "metadata": {},
   "outputs": [
    {
     "name": "stdout",
     "output_type": "stream",
     "text": [
      "123\n"
     ]
    }
   ],
   "source": [
    "load_dotenv()\n",
    "CWA_API_KEY=os.getenv(\"CWA_API_KEY\")\n",
    "print(CWA_API_KEY)"
   ]
  },
  {
   "cell_type": "code",
   "execution_count": 10,
   "id": "09ce5061",
   "metadata": {},
   "outputs": [
    {
     "name": "stdout",
     "output_type": "stream",
     "text": [
      "/Users/apple/Desktop/Git/myworkspace/allpass\n",
      "/Users/apple/Desktop/Git/myworkspace/allpass/mock/database.json\n"
     ]
    }
   ],
   "source": [
    "current_dir = os.getcwd()\n",
    "parent_dir = os.path.dirname(current_dir)\n",
    "print(parent_dir)\n",
    "db_path = parent_dir + \"/mock/database.json\"\n",
    "print(db_path)"
   ]
  },
  {
   "cell_type": "code",
   "execution_count": 11,
   "id": "36f7be79",
   "metadata": {},
   "outputs": [
    {
     "name": "stdout",
     "output_type": "stream",
     "text": [
      "{'trails': [{'id': 'hehuan-main', 'name': '合歡主峰', 'location': '南投縣仁愛鄉', 'difficulty': '低', 'permitRequired': False, 'planningPageUrl': '/plan.html?id=hehuan-main', 'stats': {'totalTime': '1 小時 30 分鐘', 'distance': '3.6 公里', 'ascent': '150 公尺', 'descent': '150 公尺'}, 'weatherStation': {'locationName': '仁愛鄉'}}, {'id': 'hehuan-north', 'name': '合歡北峰', 'location': '南投縣仁愛鄉', 'difficulty': '中', 'permitRequired': False, 'planningPageUrl': '/plan.html?id=hehuan-north', 'stats': {'totalTime': '4 小時', 'distance': '4.7 公里', 'ascent': '450 公尺', 'descent': '450 公尺'}, 'weatherStation': {'locationName': '仁愛鄉'}}, {'id': 'yangmingshan-east', 'name': '陽明山東段縱走', 'location': '臺北市士林區', 'difficulty': '高', 'permitRequired': False, 'planningPageUrl': '/plan.html?id=yangmingshan-east', 'stats': {'totalTime': '6 小時', 'distance': '12 公里', 'ascent': '800 公尺', 'descent': '750 公尺'}, 'weatherStation': {'locationName': '士林區'}}, {'id': 'taoshan-waterfall', 'name': '桃山瀑布', 'location': '臺中市和平區', 'difficulty': '低', 'permitRequired': True, 'planningPageUrl': '/plan.html?id=taoshan-waterfall', 'stats': {'totalTime': '3 小時', 'distance': '8.6 公里', 'ascent': '400 公尺', 'descent': '400 公尺'}, 'weatherStation': {'locationName': '和平區'}}]}\n"
     ]
    }
   ],
   "source": [
    "with open(db_path, \"r\", encoding=\"utf-8\") as f:\n",
    "     print(json.load(f))"
   ]
  },
  {
   "cell_type": "code",
   "execution_count": null,
   "id": "6ed918ef",
   "metadata": {},
   "outputs": [],
   "source": []
  }
 ],
 "metadata": {
  "kernelspec": {
   "display_name": ".venv",
   "language": "python",
   "name": "python3"
  },
  "language_info": {
   "codemirror_mode": {
    "name": "ipython",
    "version": 3
   },
   "file_extension": ".py",
   "mimetype": "text/x-python",
   "name": "python",
   "nbconvert_exporter": "python",
   "pygments_lexer": "ipython3",
   "version": "3.13.1"
  }
 },
 "nbformat": 4,
 "nbformat_minor": 5
}
