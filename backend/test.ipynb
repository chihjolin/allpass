{
 "cells": [
  {
   "cell_type": "code",
   "execution_count": 2,
   "id": "f4b50985",
   "metadata": {},
   "outputs": [],
   "source": [
    "import os\n",
    "from dotenv import load_dotenv\n",
    "import json\n",
    "from flask import Flask, jsonify, send_from_directory, request\n",
    "from flask_cors import CORS\n",
    "import requests\n",
    "import gpxpy\n",
    "import gpxpy.gpx"
   ]
  },
  {
   "cell_type": "code",
   "execution_count": 3,
   "id": "c03a1c0f",
   "metadata": {},
   "outputs": [
    {
     "name": "stdout",
     "output_type": "stream",
     "text": [
      "123\n"
     ]
    }
   ],
   "source": [
    "load_dotenv()\n",
    "CWA_API_KEY=os.getenv(\"CWA_API_KEY\")\n",
    "print(CWA_API_KEY)"
   ]
  },
  {
   "cell_type": "code",
   "execution_count": 12,
   "id": "09ce5061",
   "metadata": {},
   "outputs": [
    {
     "name": "stdout",
     "output_type": "stream",
     "text": [
      "/Users/apple/Desktop/Git/myworkspace/allpass/backend\n"
     ]
    }
   ],
   "source": [
    "temp_path = os.getcwd()\n",
    "print(temp_path)"
   ]
  },
  {
   "cell_type": "code",
   "execution_count": null,
   "id": "36f7be79",
   "metadata": {},
   "outputs": [],
   "source": []
  },
  {
   "cell_type": "code",
   "execution_count": null,
   "id": "6ed918ef",
   "metadata": {},
   "outputs": [],
   "source": []
  }
 ],
 "metadata": {
  "kernelspec": {
   "display_name": ".venv",
   "language": "python",
   "name": "python3"
  },
  "language_info": {
   "codemirror_mode": {
    "name": "ipython",
    "version": 3
   },
   "file_extension": ".py",
   "mimetype": "text/x-python",
   "name": "python",
   "nbconvert_exporter": "python",
   "pygments_lexer": "ipython3",
   "version": "3.13.1"
  }
 },
 "nbformat": 4,
 "nbformat_minor": 5
}
