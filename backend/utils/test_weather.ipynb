{
 "cells": [
  {
   "cell_type": "code",
   "execution_count": 177,
   "id": "5e4aa57b",
   "metadata": {},
   "outputs": [
    {
     "data": {
      "text/plain": [
       "True"
      ]
     },
     "execution_count": 177,
     "metadata": {},
     "output_type": "execute_result"
    }
   ],
   "source": [
    "#from pathlib import Path\n",
    "import os\n",
    "from dotenv import load_dotenv\n",
    "import requests as rq\n",
    "import certifi\n",
    "#import urllib3\n",
    "#urllib3.disable_warnings(urllib3.exceptions.InsecureRequestWarning )\n",
    "load_dotenv()\n"
   ]
  },
  {
   "cell_type": "code",
   "execution_count": 178,
   "id": "7b72d138",
   "metadata": {},
   "outputs": [
    {
     "name": "stdout",
     "output_type": "stream",
     "text": [
      "CWA-D580DCE8-4C03-4451-8323-529D0E5B77B3\n"
     ]
    }
   ],
   "source": [
    "CWA_API_KEY=os.getenv(\"CWA_API_KEY\")\n",
    "print(CWA_API_KEY)"
   ]
  },
  {
   "cell_type": "code",
   "execution_count": 179,
   "id": "83f056fb",
   "metadata": {},
   "outputs": [],
   "source": [
    "import os\n",
    "#CERT_FILE = os.environ.get(\"SSL_CERT_FILE\")\n",
    "#print(CERT_FILE)"
   ]
  },
  {
   "cell_type": "code",
   "execution_count": 180,
   "id": "5bf809ee",
   "metadata": {},
   "outputs": [],
   "source": [
    "# #跳過ssl憑證驗證verify=False\n",
    "# location_name = \"新北市\"\n",
    "# url = \"https://opendata.cwa.gov.tw/api/v1/rest/datastore/F-D0047-091\"\n",
    "# params = {\n",
    "#     \"Authorization\": CWA_API_KEY,\n",
    "#     \"format\": \"JSON\",\n",
    "#     \"LocationName\":location_name\n",
    "# }\n",
    "# response = rq.get(url, params=params, verify=False)\n",
    "# print(response.json())"
   ]
  },
  {
   "cell_type": "code",
   "execution_count": 181,
   "id": "809add6f",
   "metadata": {},
   "outputs": [
    {
     "name": "stdout",
     "output_type": "stream",
     "text": [
      "<class 'dict'>\n"
     ]
    }
   ],
   "source": [
    "location_name = \"新北市\"\n",
    "base_url = os.getenv(\"CWA_API_BASE\")\n",
    "endpoint = os.getenv(\"WEATHER_ENDPOINT\")\n",
    "#print(endpoint)\n",
    "url = f\"{base_url}/{endpoint}\"\n",
    "#print(url)\n",
    "params = {\n",
    "    \"Authorization\": CWA_API_KEY,\n",
    "    \"format\": \"JSON\",\n",
    "    \"LocationName\":location_name\n",
    "}\n",
    "response = rq.get(url, params=params, verify=certifi.where())\n",
    "data = response.json()\n",
    "print(type(data))\n"
   ]
  },
  {
   "cell_type": "code",
   "execution_count": 182,
   "id": "4a07ed07",
   "metadata": {},
   "outputs": [],
   "source": [
    "response.raise_for_status()"
   ]
  },
  {
   "cell_type": "code",
   "execution_count": 183,
   "id": "aa8ffef3",
   "metadata": {},
   "outputs": [
    {
     "name": "stdout",
     "output_type": "stream",
     "text": [
      "{'ElementName': '平均溫度', 'Time': [{'StartTime': '2025-07-21T18:00:00+08:00', 'EndTime': '2025-07-22T06:00:00+08:00', 'ElementValue': [{'Temperature': '26'}]}, {'StartTime': '2025-07-22T06:00:00+08:00', 'EndTime': '2025-07-22T18:00:00+08:00', 'ElementValue': [{'Temperature': '30'}]}, {'StartTime': '2025-07-22T18:00:00+08:00', 'EndTime': '2025-07-23T06:00:00+08:00', 'ElementValue': [{'Temperature': '28'}]}, {'StartTime': '2025-07-23T06:00:00+08:00', 'EndTime': '2025-07-23T18:00:00+08:00', 'ElementValue': [{'Temperature': '30'}]}, {'StartTime': '2025-07-23T18:00:00+08:00', 'EndTime': '2025-07-24T06:00:00+08:00', 'ElementValue': [{'Temperature': '27'}]}, {'StartTime': '2025-07-24T06:00:00+08:00', 'EndTime': '2025-07-24T18:00:00+08:00', 'ElementValue': [{'Temperature': '28'}]}, {'StartTime': '2025-07-24T18:00:00+08:00', 'EndTime': '2025-07-25T06:00:00+08:00', 'ElementValue': [{'Temperature': '26'}]}, {'StartTime': '2025-07-25T06:00:00+08:00', 'EndTime': '2025-07-25T18:00:00+08:00', 'ElementValue': [{'Temperature': '27'}]}, {'StartTime': '2025-07-25T18:00:00+08:00', 'EndTime': '2025-07-26T06:00:00+08:00', 'ElementValue': [{'Temperature': '26'}]}, {'StartTime': '2025-07-26T06:00:00+08:00', 'EndTime': '2025-07-26T18:00:00+08:00', 'ElementValue': [{'Temperature': '30'}]}, {'StartTime': '2025-07-26T18:00:00+08:00', 'EndTime': '2025-07-27T06:00:00+08:00', 'ElementValue': [{'Temperature': '28'}]}, {'StartTime': '2025-07-27T06:00:00+08:00', 'EndTime': '2025-07-27T18:00:00+08:00', 'ElementValue': [{'Temperature': '30'}]}, {'StartTime': '2025-07-27T18:00:00+08:00', 'EndTime': '2025-07-28T06:00:00+08:00', 'ElementValue': [{'Temperature': '28'}]}, {'StartTime': '2025-07-28T06:00:00+08:00', 'EndTime': '2025-07-28T18:00:00+08:00', 'ElementValue': [{'Temperature': '30'}]}, {'StartTime': '2025-07-28T18:00:00+08:00', 'EndTime': '2025-07-29T06:00:00+08:00', 'ElementValue': [{'Temperature': '28'}]}]}\n"
     ]
    }
   ],
   "source": [
    "weather_elements = data['records']['Locations'][0]['Location'][0]['WeatherElement']\n",
    "#print(weather_elements)\n",
    "\"\"\"\n",
    "print(type(weather_elements))\n",
    "if type(weather_elements) == list:\n",
    "    print(len(weather_elements))\n",
    "\"\"\"\n",
    "temp_el = next((item for item in weather_elements if item['ElementName'] == '平均溫度'), None)\n",
    "\n",
    "pop_el = next((item for item in weather_elements if item['ElementName'] == '12小時降雨機率'), None)\n",
    "wx_el = next((item for item in weather_elements if item['ElementName'] == '天氣現象'), None)\n",
    "if not all([temp_el, pop_el, wx_el]):\n",
    "     print('天氣資料格式不完整')\n",
    "hourly_temp, hourly_pop, hourly_wx = temp_el['Time'], pop_el['Time'], wx_el['Time']\n",
    "print(temp_el)\n",
    "\n",
    "\n"
   ]
  },
  {
   "cell_type": "code",
   "execution_count": 189,
   "id": "374266cf",
   "metadata": {},
   "outputs": [
    {
     "name": "stdout",
     "output_type": "stream",
     "text": [
      "[{'time': '2025-07-21T18:00:00+08:00', 'temp': '26', 'pop': '40', 'wx': '陰時多雲短暫陣雨或雷雨'}, {'time': '2025-07-22T06:00:00+08:00', 'temp': '30', 'pop': '20', 'wx': '陰天'}, {'time': '2025-07-22T18:00:00+08:00', 'temp': '28', 'pop': '20', 'wx': '多雲時陰'}, {'time': '2025-07-23T06:00:00+08:00', 'temp': '30', 'pop': '30', 'wx': '晴午後短暫雷陣雨'}, {'time': '2025-07-23T18:00:00+08:00', 'temp': '27', 'pop': '40', 'wx': '多雲短暫陣雨或雷雨'}, {'time': '2025-07-24T06:00:00+08:00', 'temp': '28', 'pop': '80', 'wx': '多雲時陰短暫陣雨或雷雨'}, {'time': '2025-07-24T18:00:00+08:00', 'temp': '26', 'pop': '90', 'wx': '多雲時陰短暫陣雨或雷雨'}, {'time': '2025-07-25T06:00:00+08:00', 'temp': '27', 'pop': '-', 'wx': '陰短暫陣雨或雷雨'}, {'time': '2025-07-25T18:00:00+08:00', 'temp': '26', 'pop': '-', 'wx': '多雲短暫陣雨或雷雨'}, {'time': '2025-07-26T06:00:00+08:00', 'temp': '30', 'pop': '-', 'wx': '多雲短暫陣雨或雷雨'}, {'time': '2025-07-26T18:00:00+08:00', 'temp': '28', 'pop': '-', 'wx': '多雲短暫陣雨或雷雨'}, {'time': '2025-07-27T06:00:00+08:00', 'temp': '30', 'pop': '-', 'wx': '多雲短暫陣雨或雷雨'}, {'time': '2025-07-27T18:00:00+08:00', 'temp': '28', 'pop': '-', 'wx': '多雲短暫陣雨或雷雨'}, {'time': '2025-07-28T06:00:00+08:00', 'temp': '30', 'pop': '-', 'wx': '多雲短暫陣雨或雷雨'}, {'time': '2025-07-28T18:00:00+08:00', 'temp': '28', 'pop': '-', 'wx': '多雲時陰短暫陣雨或雷雨'}]\n"
     ]
    }
   ],
   "source": [
    "formatted_weather = []\n",
    "for temp_time in hourly_temp:\n",
    "    # print(f\"temp_starttime:{temp_time['StartTime']}\")\n",
    "    # #print(reversed(hourly_pop))\n",
    "    # for p in hourly_pop:\n",
    "    #      print(f\"p_startime:{p['StartTime']}\")\n",
    "    #      if p['StartTime'] <= temp_time['StartTime']:\n",
    "    #           print (\"append to list\")\n",
    "    pop_entry = next((p for p in reversed(hourly_pop) if p['StartTime'] <= temp_time['StartTime']), None)\n",
    "    #print(pop_entry)\n",
    "    wx_entry = next((w for w in reversed(hourly_wx) if w['StartTime'] <= temp_time['StartTime']), None)\n",
    "    formatted_weather.append({\n",
    "        'time': temp_time['StartTime'], 'temp': temp_time['ElementValue'][0]['Temperature'],\n",
    "        'pop': pop_entry['ElementValue'][0]['ProbabilityOfPrecipitation'] if pop_entry else 'N/A',\n",
    "        'wx': wx_entry['ElementValue'][0]['Weather'] if wx_entry else 'N/A'\n",
    "        #'wxCode': wx_entry['ElementValue'][1]['value'] if wx_entry else 'N/A'\n",
    "    \n",
    "    })\n",
    "\n",
    "print(formatted_weather)"
   ]
  },
  {
   "cell_type": "code",
   "execution_count": 185,
   "id": "f235d598",
   "metadata": {},
   "outputs": [
    {
     "data": {
      "text/plain": [
       "\"\\ntemp_el = next((item for item in weather_elements if item['elementName'] == 'T'), None)\\npop_el = next((item for item in weather_elements if item['elementName'] == 'PoP12h'), None)\\nwx_el = next((item for item in weather_elements if item['elementName'] == 'Wx'), None)\\nif not all([temp_el, pop_el, wx_el]):\\n    return jsonify({'message': '天氣資料格式不完整'}), 500\\nhourly_temp, hourly_pop, hourly_wx = temp_el['time'], pop_el['time'], wx_el['time']\\nformatted_weather = []\\nfor temp_time in hourly_temp:\\n    pop_entry = next((p for p in reversed(hourly_pop) if p['startTime'] <= temp_time['startTime']), None)\\n    wx_entry = next((w for w in reversed(hourly_wx) if w['startTime'] <= temp_time['startTime']), None)\\n    formatted_weather.append({\\n        'time': temp_time['startTime'], 'temp': temp_time['elementValue'][0]['value'],\\n        'pop': pop_entry['elementValue'][0]['value'] if pop_entry else 'N/A',\\n        'wx': wx_entry['elementValue'][0]['value'] if wx_entry else 'N/A',\\n        'wxCode': wx_entry['elementValue'][1]['value'] if wx_entry else 'N/A'\\n    })\\nreturn jsonify(formatted_weather[:24])\\n\""
      ]
     },
     "execution_count": 185,
     "metadata": {},
     "output_type": "execute_result"
    }
   ],
   "source": [
    "\"\"\"\n",
    "temp_el = next((item for item in weather_elements if item['elementName'] == 'T'), None)\n",
    "pop_el = next((item for item in weather_elements if item['elementName'] == 'PoP12h'), None)\n",
    "wx_el = next((item for item in weather_elements if item['elementName'] == 'Wx'), None)\n",
    "if not all([temp_el, pop_el, wx_el]):\n",
    "    return jsonify({'message': '天氣資料格式不完整'}), 500\n",
    "hourly_temp, hourly_pop, hourly_wx = temp_el['time'], pop_el['time'], wx_el['time']\n",
    "formatted_weather = []\n",
    "for temp_time in hourly_temp:\n",
    "    pop_entry = next((p for p in reversed(hourly_pop) if p['startTime'] <= temp_time['startTime']), None)\n",
    "    wx_entry = next((w for w in reversed(hourly_wx) if w['startTime'] <= temp_time['startTime']), None)\n",
    "    formatted_weather.append({\n",
    "        'time': temp_time['startTime'], 'temp': temp_time['elementValue'][0]['value'],\n",
    "        'pop': pop_entry['elementValue'][0]['value'] if pop_entry else 'N/A',\n",
    "        'wx': wx_entry['elementValue'][0]['value'] if wx_entry else 'N/A',\n",
    "        'wxCode': wx_entry['elementValue'][1]['value'] if wx_entry else 'N/A'\n",
    "    })\n",
    "return jsonify(formatted_weather[:24])\n",
    "\"\"\""
   ]
  },
  {
   "cell_type": "code",
   "execution_count": 186,
   "id": "c57a5ab1",
   "metadata": {},
   "outputs": [
    {
     "name": "stdout",
     "output_type": "stream",
     "text": [
      "temp_time: {'StartTime': '2025-07-21T18:00:00+08:00', 'EndTime': '2025-07-22T06:00:00+08:00', 'ElementValue': [{'Temperature': '26'}]}\n",
      "temp_time: {'StartTime': '2025-07-22T06:00:00+08:00', 'EndTime': '2025-07-22T18:00:00+08:00', 'ElementValue': [{'Temperature': '30'}]}\n",
      "temp_time: {'StartTime': '2025-07-22T18:00:00+08:00', 'EndTime': '2025-07-23T06:00:00+08:00', 'ElementValue': [{'Temperature': '28'}]}\n",
      "temp_time: {'StartTime': '2025-07-23T06:00:00+08:00', 'EndTime': '2025-07-23T18:00:00+08:00', 'ElementValue': [{'Temperature': '30'}]}\n",
      "temp_time: {'StartTime': '2025-07-23T18:00:00+08:00', 'EndTime': '2025-07-24T06:00:00+08:00', 'ElementValue': [{'Temperature': '27'}]}\n",
      "temp_time: {'StartTime': '2025-07-24T06:00:00+08:00', 'EndTime': '2025-07-24T18:00:00+08:00', 'ElementValue': [{'Temperature': '28'}]}\n",
      "temp_time: {'StartTime': '2025-07-24T18:00:00+08:00', 'EndTime': '2025-07-25T06:00:00+08:00', 'ElementValue': [{'Temperature': '26'}]}\n",
      "temp_time: {'StartTime': '2025-07-25T06:00:00+08:00', 'EndTime': '2025-07-25T18:00:00+08:00', 'ElementValue': [{'Temperature': '27'}]}\n",
      "temp_time: {'StartTime': '2025-07-25T18:00:00+08:00', 'EndTime': '2025-07-26T06:00:00+08:00', 'ElementValue': [{'Temperature': '26'}]}\n",
      "temp_time: {'StartTime': '2025-07-26T06:00:00+08:00', 'EndTime': '2025-07-26T18:00:00+08:00', 'ElementValue': [{'Temperature': '30'}]}\n",
      "temp_time: {'StartTime': '2025-07-26T18:00:00+08:00', 'EndTime': '2025-07-27T06:00:00+08:00', 'ElementValue': [{'Temperature': '28'}]}\n",
      "temp_time: {'StartTime': '2025-07-27T06:00:00+08:00', 'EndTime': '2025-07-27T18:00:00+08:00', 'ElementValue': [{'Temperature': '30'}]}\n",
      "temp_time: {'StartTime': '2025-07-27T18:00:00+08:00', 'EndTime': '2025-07-28T06:00:00+08:00', 'ElementValue': [{'Temperature': '28'}]}\n",
      "temp_time: {'StartTime': '2025-07-28T06:00:00+08:00', 'EndTime': '2025-07-28T18:00:00+08:00', 'ElementValue': [{'Temperature': '30'}]}\n",
      "temp_time: {'StartTime': '2025-07-28T18:00:00+08:00', 'EndTime': '2025-07-29T06:00:00+08:00', 'ElementValue': [{'Temperature': '28'}]}\n"
     ]
    }
   ],
   "source": [
    "formatted_weather = []\n",
    "for temp_time in hourly_temp:\n",
    "    print(f\"temp_time: {temp_time}\")\n",
    "    "
   ]
  },
  {
   "cell_type": "code",
   "execution_count": 187,
   "id": "697b34f5",
   "metadata": {},
   "outputs": [
    {
     "name": "stdout",
     "output_type": "stream",
     "text": [
      "p_time: {'StartTime': '2025-07-21T18:00:00+08:00', 'EndTime': '2025-07-22T06:00:00+08:00', 'ElementValue': [{'ProbabilityOfPrecipitation': '40'}]}\n",
      "p_time: {'StartTime': '2025-07-22T06:00:00+08:00', 'EndTime': '2025-07-22T18:00:00+08:00', 'ElementValue': [{'ProbabilityOfPrecipitation': '20'}]}\n",
      "p_time: {'StartTime': '2025-07-22T18:00:00+08:00', 'EndTime': '2025-07-23T06:00:00+08:00', 'ElementValue': [{'ProbabilityOfPrecipitation': '20'}]}\n",
      "p_time: {'StartTime': '2025-07-23T06:00:00+08:00', 'EndTime': '2025-07-23T18:00:00+08:00', 'ElementValue': [{'ProbabilityOfPrecipitation': '30'}]}\n",
      "p_time: {'StartTime': '2025-07-23T18:00:00+08:00', 'EndTime': '2025-07-24T06:00:00+08:00', 'ElementValue': [{'ProbabilityOfPrecipitation': '40'}]}\n",
      "p_time: {'StartTime': '2025-07-24T06:00:00+08:00', 'EndTime': '2025-07-24T18:00:00+08:00', 'ElementValue': [{'ProbabilityOfPrecipitation': '80'}]}\n",
      "p_time: {'StartTime': '2025-07-24T18:00:00+08:00', 'EndTime': '2025-07-25T06:00:00+08:00', 'ElementValue': [{'ProbabilityOfPrecipitation': '90'}]}\n",
      "p_time: {'StartTime': '2025-07-25T06:00:00+08:00', 'EndTime': '2025-07-25T18:00:00+08:00', 'ElementValue': [{'ProbabilityOfPrecipitation': '-'}]}\n",
      "p_time: {'StartTime': '2025-07-25T18:00:00+08:00', 'EndTime': '2025-07-26T06:00:00+08:00', 'ElementValue': [{'ProbabilityOfPrecipitation': '-'}]}\n",
      "p_time: {'StartTime': '2025-07-26T06:00:00+08:00', 'EndTime': '2025-07-26T18:00:00+08:00', 'ElementValue': [{'ProbabilityOfPrecipitation': '-'}]}\n",
      "p_time: {'StartTime': '2025-07-26T18:00:00+08:00', 'EndTime': '2025-07-27T06:00:00+08:00', 'ElementValue': [{'ProbabilityOfPrecipitation': '-'}]}\n",
      "p_time: {'StartTime': '2025-07-27T06:00:00+08:00', 'EndTime': '2025-07-27T18:00:00+08:00', 'ElementValue': [{'ProbabilityOfPrecipitation': '-'}]}\n",
      "p_time: {'StartTime': '2025-07-27T18:00:00+08:00', 'EndTime': '2025-07-28T06:00:00+08:00', 'ElementValue': [{'ProbabilityOfPrecipitation': '-'}]}\n",
      "p_time: {'StartTime': '2025-07-28T06:00:00+08:00', 'EndTime': '2025-07-28T18:00:00+08:00', 'ElementValue': [{'ProbabilityOfPrecipitation': '-'}]}\n",
      "p_time: {'StartTime': '2025-07-28T18:00:00+08:00', 'EndTime': '2025-07-29T06:00:00+08:00', 'ElementValue': [{'ProbabilityOfPrecipitation': '-'}]}\n"
     ]
    }
   ],
   "source": [
    "formatted_weather = []\n",
    "for p_time in hourly_pop:\n",
    "    print(f\"p_time: {p_time}\")"
   ]
  },
  {
   "cell_type": "code",
   "execution_count": 188,
   "id": "64162b9a",
   "metadata": {},
   "outputs": [
    {
     "name": "stdout",
     "output_type": "stream",
     "text": [
      "wx_time: {'StartTime': '2025-07-21T18:00:00+08:00', 'EndTime': '2025-07-22T06:00:00+08:00', 'ElementValue': [{'Weather': '陰時多雲短暫陣雨或雷雨', 'WeatherCode': '17'}]}\n",
      "wx_time: {'StartTime': '2025-07-22T06:00:00+08:00', 'EndTime': '2025-07-22T18:00:00+08:00', 'ElementValue': [{'Weather': '陰天', 'WeatherCode': '07'}]}\n",
      "wx_time: {'StartTime': '2025-07-22T18:00:00+08:00', 'EndTime': '2025-07-23T06:00:00+08:00', 'ElementValue': [{'Weather': '多雲時陰', 'WeatherCode': '05'}]}\n",
      "wx_time: {'StartTime': '2025-07-23T06:00:00+08:00', 'EndTime': '2025-07-23T18:00:00+08:00', 'ElementValue': [{'Weather': '晴午後短暫雷陣雨', 'WeatherCode': '21'}]}\n",
      "wx_time: {'StartTime': '2025-07-23T18:00:00+08:00', 'EndTime': '2025-07-24T06:00:00+08:00', 'ElementValue': [{'Weather': '多雲短暫陣雨或雷雨', 'WeatherCode': '15'}]}\n",
      "wx_time: {'StartTime': '2025-07-24T06:00:00+08:00', 'EndTime': '2025-07-24T18:00:00+08:00', 'ElementValue': [{'Weather': '多雲時陰短暫陣雨或雷雨', 'WeatherCode': '16'}]}\n",
      "wx_time: {'StartTime': '2025-07-24T18:00:00+08:00', 'EndTime': '2025-07-25T06:00:00+08:00', 'ElementValue': [{'Weather': '多雲時陰短暫陣雨或雷雨', 'WeatherCode': '16'}]}\n",
      "wx_time: {'StartTime': '2025-07-25T06:00:00+08:00', 'EndTime': '2025-07-25T18:00:00+08:00', 'ElementValue': [{'Weather': '陰短暫陣雨或雷雨', 'WeatherCode': '18'}]}\n",
      "wx_time: {'StartTime': '2025-07-25T18:00:00+08:00', 'EndTime': '2025-07-26T06:00:00+08:00', 'ElementValue': [{'Weather': '多雲短暫陣雨或雷雨', 'WeatherCode': '15'}]}\n",
      "wx_time: {'StartTime': '2025-07-26T06:00:00+08:00', 'EndTime': '2025-07-26T18:00:00+08:00', 'ElementValue': [{'Weather': '多雲短暫陣雨或雷雨', 'WeatherCode': '15'}]}\n",
      "wx_time: {'StartTime': '2025-07-26T18:00:00+08:00', 'EndTime': '2025-07-27T06:00:00+08:00', 'ElementValue': [{'Weather': '多雲短暫陣雨或雷雨', 'WeatherCode': '15'}]}\n",
      "wx_time: {'StartTime': '2025-07-27T06:00:00+08:00', 'EndTime': '2025-07-27T18:00:00+08:00', 'ElementValue': [{'Weather': '多雲短暫陣雨或雷雨', 'WeatherCode': '15'}]}\n",
      "wx_time: {'StartTime': '2025-07-27T18:00:00+08:00', 'EndTime': '2025-07-28T06:00:00+08:00', 'ElementValue': [{'Weather': '多雲短暫陣雨或雷雨', 'WeatherCode': '15'}]}\n",
      "wx_time: {'StartTime': '2025-07-28T06:00:00+08:00', 'EndTime': '2025-07-28T18:00:00+08:00', 'ElementValue': [{'Weather': '多雲短暫陣雨或雷雨', 'WeatherCode': '15'}]}\n",
      "wx_time: {'StartTime': '2025-07-28T18:00:00+08:00', 'EndTime': '2025-07-29T06:00:00+08:00', 'ElementValue': [{'Weather': '多雲時陰短暫陣雨或雷雨', 'WeatherCode': '16'}]}\n"
     ]
    }
   ],
   "source": [
    "formatted_weather = []\n",
    "for wx_time in hourly_wx:\n",
    "    print(f\"wx_time: {wx_time}\")"
   ]
  },
  {
   "cell_type": "code",
   "execution_count": null,
   "id": "ba711bbc",
   "metadata": {},
   "outputs": [],
   "source": []
  }
 ],
 "metadata": {
  "kernelspec": {
   "display_name": ".venv",
   "language": "python",
   "name": "python3"
  },
  "language_info": {
   "codemirror_mode": {
    "name": "ipython",
    "version": 3
   },
   "file_extension": ".py",
   "mimetype": "text/x-python",
   "name": "python",
   "nbconvert_exporter": "python",
   "pygments_lexer": "ipython3",
   "version": "3.13.1"
  }
 },
 "nbformat": 4,
 "nbformat_minor": 5
}
